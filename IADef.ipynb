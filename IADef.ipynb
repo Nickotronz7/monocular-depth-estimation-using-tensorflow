{
 "cells": [
  {
   "cell_type": "code",
   "execution_count": 1,
   "metadata": {},
   "outputs": [],
   "source": [
    "import os\n",
    "import numpy as np\n",
    "import matplotlib.pyplot as plt\n",
    "import tensorflow as tf\n",
    "from tensorflow.keras.layers import Input, Dense, Conv2D, Activation, MaxPool2D\n",
    "from tensorflow.keras.layers import BatchNormalization, Flatten, Reshape, Conv2DTranspose, LeakyReLU\n",
    "from tensorflow.keras.models import Model\n",
    "from tensorflow.keras.optimizers import Adam, SGD\n",
    "import tensorflow_datasets as tfds\n",
    "import PIL\n",
    "\n",
    "\n",
    "os.environ['TF_CPP_MIN_LOG_LEVEL'] = '1' \n",
    "gpus = tf.config.experimental.list_physical_devices('GPU')\n",
    "tf.config.experimental.set_memory_growth(gpus[0], True)\n"
   ]
  },
  {
   "cell_type": "markdown",
   "metadata": {},
   "source": [
    "Data set"
   ]
  },
  {
   "cell_type": "code",
   "execution_count": 4,
   "metadata": {},
   "outputs": [],
   "source": [
    "nyu_data, nyu_data_info= tfds.load('nyu_depth_v2', shuffle_files=True,\n",
    "                 download=False, with_info=True)\n",
    "\n",
    "train_data_set, validation_data_set = nyu_data['train'], nyu_data['validation']\n"
   ]
  },
  {
   "cell_type": "code",
   "execution_count": 6,
   "metadata": {},
   "outputs": [],
   "source": [
    "BUFFER_SIZE = 10\n",
    "BATCH_SIZE = 8\n",
    "NUM_EPOCHS = 5\n",
    "\n",
    "train_data = train_data_set.shuffle(BUFFER_SIZE).batch(BATCH_SIZE)\n",
    "validation_data = train_data_set.shuffle(BUFFER_SIZE).batch(BATCH_SIZE)"
   ]
  },
  {
   "cell_type": "markdown",
   "metadata": {},
   "source": [
    "Hiperparametros"
   ]
  },
  {
   "cell_type": "code",
   "execution_count": 70,
   "metadata": {},
   "outputs": [],
   "source": [
    "height = 480\n",
    "width = 640\n",
    "channels = 3\n",
    "\n",
    "kernel = (3, 3)\n",
    "\n",
    "latent_dim = 512"
   ]
  },
  {
   "cell_type": "markdown",
   "metadata": {},
   "source": [
    "IA Definition"
   ]
  },
  {
   "cell_type": "code",
   "execution_count": null,
   "metadata": {},
   "outputs": [],
   "source": [
    "inputs = Input(shape=(height, width, channels), name=\"inputs\")\n",
    "x = inputs\n",
    "\n",
    "x = Conv2D(32, kernel, padding=\"same\")(x)\n",
    "x = BatchNormalization()(x)\n",
    "x = LeakyReLU(alpha=0.2)(x)\n",
    "x = MaxPool2D((2, 2))(x)\n",
    "\n",
    "x = Conv2D(64, kernel, padding=\"same\")(x)\n",
    "x = BatchNormalization()(x)\n",
    "x = LeakyReLU(alpha=0.2)(x)\n",
    "x = MaxPool2D((2, 2))(x)\n",
    "\n",
    "x = Conv2D(128, kernel, padding=\"same\")(x)\n",
    "x = BatchNormalization()(x)\n",
    "x = LeakyReLU(alpha=0.2)(x)\n",
    "x = MaxPool2D((2, 2))(x)\n",
    "\n",
    "x = Conv2D(256, kernel, padding=\"same\")(x)\n",
    "x = BatchNormalization()(x)\n",
    "x = LeakyReLU(alpha=0.2)(x)\n",
    "x = MaxPool2D((2, 2))(x)\n",
    "\n",
    "x = Flatten()(x)\n",
    "units = x.shape[1]\n",
    "x = Dense(latent_dim, name=\"latent\")(x)\n",
    "x = Dense(units)(x)\n",
    "x = LeakyReLU(alpha=0.2)(x)\n",
    "x = Reshape((30, 40, 256))(x)\n",
    "\n",
    "x = Conv2DTranspose(256, kernel, strides=2, padding=\"same\")(x)\n",
    "x = BatchNormalization()(x)\n",
    "x = LeakyReLU(alpha=0.2)(x)\n",
    "\n",
    "x = Conv2DTranspose(128, kernel, strides=2, padding=\"same\")(x)\n",
    "x = BatchNormalization()(x)\n",
    "x = LeakyReLU(alpha=0.2)(x)\n",
    "\n",
    "x = Conv2DTranspose(64, kernel, strides=2, padding=\"same\")(x)\n",
    "x = BatchNormalization()(x)\n",
    "x = LeakyReLU(alpha=0.2)(x)\n",
    "\n",
    "x = Conv2DTranspose(1, kernel, strides=2, padding=\"same\")(x)\n",
    "x = BatchNormalization()(x)\n",
    "x = Activation(\"sigmoid\", name=\"outputs\")(x)\n",
    "\n",
    "outputs = x\n",
    "\n",
    "autoencoder = Model(inputs, outputs)\n",
    "autoencoder.compile(optimizer=Adam(1e-3), loss='binary_crossentropy')\n",
    "autoencoder.summary()\n"
   ]
  },
  {
   "cell_type": "code",
   "execution_count": null,
   "metadata": {},
   "outputs": [],
   "source": [
    "autoencoder.fit(\n",
    "    train_data,\n",
    "    epochs=NUM_EPOCHS,\n",
    "    validation_data=validation_data\n",
    ")"
   ]
  },
  {
   "cell_type": "code",
   "execution_count": null,
   "metadata": {},
   "outputs": [],
   "source": [
    "autoencoder.save(\"convAutoencoder.h5\")"
   ]
  },
  {
   "cell_type": "code",
   "execution_count": 2,
   "metadata": {},
   "outputs": [],
   "source": [
    "loaded_model = tf.keras.models.load_model(\"convAutoencoder.h5\")\n",
    "\n",
    "# loaded_model.predict()\n"
   ]
  },
  {
   "cell_type": "code",
   "execution_count": 48,
   "metadata": {},
   "outputs": [],
   "source": [
    "ds = train_data_set.shuffle(1).batch(1).take(1)\n",
    "\n",
    "for example in ds:  # example is `{'image': tf.Tensor, 'label': tf.Tensor}`\n",
    "  depth = example[\"depth\"]\n",
    "  image = example[\"image\"]\n",
    "  # print('img', image.shape, 'dep', depth.shape)\n",
    "\n",
    "img = image\n"
   ]
  },
  {
   "cell_type": "code",
   "execution_count": 53,
   "metadata": {},
   "outputs": [
    {
     "name": "stdout",
     "output_type": "stream",
     "text": [
      "prediction (1, 480, 640, 1)\n",
      "prediction (1, 480, 640)\n"
     ]
    }
   ],
   "source": [
    "# result = ds.map(lambda image, label: image)\n",
    "\n",
    "prediction = loaded_model.predict(img)\n",
    "\n",
    "print('prediction', prediction.shape)\n",
    "\n",
    "prediction_temp = np.empty((1,480,640))\n",
    "\n",
    "for i in range(480):\n",
    "    for j in range(640):\n",
    "        for element in prediction[0][i][j]:\n",
    "            np.append(prediction_temp[0][i][j], element)\n",
    "\n",
    "prediction = prediction_temp\n",
    "\n",
    "print('prediction', prediction.shape)\n"
   ]
  },
  {
   "cell_type": "code",
   "execution_count": 50,
   "metadata": {},
   "outputs": [
    {
     "name": "stdout",
     "output_type": "stream",
     "text": [
      "depth (1, 480, 640)\n"
     ]
    }
   ],
   "source": [
    "print('depth', depth.shape)"
   ]
  },
  {
   "cell_type": "code",
   "execution_count": 58,
   "metadata": {},
   "outputs": [],
   "source": [
    "\n",
    "\n",
    "plt.imsave(\"filename.jpg\", depth[0], cmap='Greys')\n"
   ]
  }
 ],
 "metadata": {
  "interpreter": {
   "hash": "916dbcbb3f70747c44a77c7bcd40155683ae19c65e1c03b4aa3499c5328201f1"
  },
  "kernelspec": {
   "display_name": "Python 3.8.10 64-bit",
   "language": "python",
   "name": "python3"
  },
  "language_info": {
   "codemirror_mode": {
    "name": "ipython",
    "version": 3
   },
   "file_extension": ".py",
   "mimetype": "text/x-python",
   "name": "python",
   "nbconvert_exporter": "python",
   "pygments_lexer": "ipython3",
   "version": "3.8.10"
  },
  "orig_nbformat": 4
 },
 "nbformat": 4,
 "nbformat_minor": 2
}
