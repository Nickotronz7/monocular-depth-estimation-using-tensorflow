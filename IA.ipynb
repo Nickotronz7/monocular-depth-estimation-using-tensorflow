{
 "cells": [
  {
   "cell_type": "code",
   "execution_count": 21,
   "metadata": {},
   "outputs": [],
   "source": [
    "\n",
    "import tensorflow as tf\n",
    "from tensorflow.keras import layers\n",
    "from tensorflow.keras.models import Sequential\n"
   ]
  },
  {
   "cell_type": "code",
   "execution_count": 5,
   "metadata": {},
   "outputs": [],
   "source": [
    "\n",
    "input_shape = (256, 256, 3)\n",
    "kerSize = 3\n"
   ]
  },
  {
   "cell_type": "code",
   "execution_count": 6,
   "metadata": {},
   "outputs": [],
   "source": [
    "model = Sequential([\n",
    "    # Capas convolucionales\n",
    "    layers.Conv2D(32, kernel_size=3, activation='relu', input_shape=input_shape),\n",
    "    layers.MaxPooling2D(pool_size=(2, 2)),\n",
    "    layers.Conv2D(64, kernel_size=3, activation='relu'),\n",
    "    layers.MaxPooling2D(pool_size=(2, 2)),\n",
    "    layers.Conv2D(128, kernel_size=3, activation='relu'),\n",
    "    layers.MaxPooling2D(pool_size=(2, 2)),\n",
    "    layers.Conv2D(256, kernel_size=3, activation='relu'),\n",
    "    layers.MaxPooling2D(pool_size=(2, 2)),\n",
    "\n",
    "    # Capa de nivelacion\n",
    "    layers.Flatten(),\n",
    "\n",
    "    # Capa de conexion total\n",
    "    layers.Dense(512, activation='relu'),\n",
    "    layers.Dropout(0.5),\n",
    "    layers.Dense(256, activation='relu'),\n",
    "    layers.Dropout(0.5),\n",
    "    layers.Dense(1, activation='linear')\n",
    "])"
   ]
  },
  {
   "cell_type": "code",
   "execution_count": 33,
   "metadata": {},
   "outputs": [],
   "source": [
    "model.compile(optimizer=tf.keras.optimizers.Adam(learning_rate=0.0001), loss='mean_squared_error')"
   ]
  },
  {
   "cell_type": "code",
   "execution_count": 30,
   "metadata": {},
   "outputs": [
    {
     "name": "stdout",
     "output_type": "stream",
     "text": [
      "Found 16884 files belonging to 12 classes.\n",
      "Using 13508 files for training.\n"
     ]
    }
   ],
   "source": [
    "train_data = tf.keras.preprocessing.image_dataset_from_directory(\n",
    "    \"/mnt/s/Proyects/dataset/train/outdoor\",\n",
    "    batch_size=32,\n",
    "    image_size=(256, 256),\n",
    "    shuffle=True,\n",
    "    seed=123,\n",
    "    validation_split=0.2,\n",
    "    subset=\"training\"\n",
    ")"
   ]
  },
  {
   "cell_type": "code",
   "execution_count": 4,
   "metadata": {},
   "outputs": [
    {
     "name": "stdout",
     "output_type": "stream",
     "text": [
      "Found 446 files belonging to 1 classes.\n",
      "Using 89 files for validation.\n"
     ]
    }
   ],
   "source": [
    "val_data = tf.keras.preprocessing.image_dataset_from_directory(\n",
    "    \"/mnt/s/Proyects/dataset/val\",\n",
    "    batch_size=32,\n",
    "    image_size=(256, 256),\n",
    "    shuffle=True,\n",
    "    seed=123,\n",
    "    validation_split=0.2,\n",
    "    subset=\"validation\"\n",
    ")"
   ]
  },
  {
   "cell_type": "code",
   "execution_count": 34,
   "metadata": {},
   "outputs": [
    {
     "name": "stdout",
     "output_type": "stream",
     "text": [
      "Epoch 1/10\n",
      "423/423 [==============================] - 47s 100ms/step - loss: 43.5728 - val_loss: 0.9165\n",
      "Epoch 2/10\n",
      "423/423 [==============================] - 42s 97ms/step - loss: 42.6865 - val_loss: 0.9688\n",
      "Epoch 3/10\n",
      "423/423 [==============================] - 42s 98ms/step - loss: 42.5849 - val_loss: 0.9888\n",
      "Epoch 4/10\n",
      "423/423 [==============================] - 41s 94ms/step - loss: 42.5568 - val_loss: 0.9910\n",
      "Epoch 5/10\n",
      "423/423 [==============================] - 41s 95ms/step - loss: 42.5464 - val_loss: 0.9939\n",
      "Epoch 6/10\n",
      "423/423 [==============================] - 43s 98ms/step - loss: 42.5412 - val_loss: 0.9957\n",
      "Epoch 7/10\n",
      "423/423 [==============================] - 41s 96ms/step - loss: 42.5382 - val_loss: 0.9953\n",
      "Epoch 8/10\n",
      "423/423 [==============================] - 41s 95ms/step - loss: 42.5364 - val_loss: 0.9958\n",
      "Epoch 9/10\n",
      "423/423 [==============================] - 41s 95ms/step - loss: 42.5351 - val_loss: 0.9965\n",
      "Epoch 10/10\n",
      "423/423 [==============================] - 43s 99ms/step - loss: 42.5342 - val_loss: 0.9967\n"
     ]
    },
    {
     "data": {
      "text/plain": [
       "<keras.callbacks.History at 0x7f3e3c1c2af0>"
      ]
     },
     "execution_count": 34,
     "metadata": {},
     "output_type": "execute_result"
    }
   ],
   "source": [
    "model.fit(train_data, epochs=10, validation_data=val_data)"
   ]
  },
  {
   "cell_type": "code",
   "execution_count": 19,
   "metadata": {},
   "outputs": [
    {
     "name": "stdout",
     "output_type": "stream",
     "text": [
      "1/1 [==============================] - 0s 14ms/step\n",
      "Predicted depth value: 6.258821\n"
     ]
    }
   ],
   "source": [
    "import numpy as np\n",
    "from PIL import Image\n",
    "\n",
    "# cargar la imagen\n",
    "image = Image.open(\"/mnt/s/Proyects/dataset/val/outdoor/scene_00022/scan_00193/00022_00193_outdoor_000_020.png\")\n",
    "image = np.array(image)\n",
    "image = tf.image.resize(image, (256, 256))\n",
    "image = np.expand_dims(image, axis=0)\n",
    "\n",
    "# realizar la prediccion\n",
    "prediction = model.predict(image)\n",
    "\n",
    "# Print the predicted depth value\n",
    "print(\"Predicted depth value:\", prediction[0][0])"
   ]
  }
 ],
 "metadata": {
  "kernelspec": {
   "display_name": "tf",
   "language": "python",
   "name": "python3"
  },
  "language_info": {
   "codemirror_mode": {
    "name": "ipython",
    "version": 3
   },
   "file_extension": ".py",
   "mimetype": "text/x-python",
   "name": "python",
   "nbconvert_exporter": "python",
   "pygments_lexer": "ipython3",
   "version": "3.9.16"
  },
  "orig_nbformat": 4
 },
 "nbformat": 4,
 "nbformat_minor": 2
}
