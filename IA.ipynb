{
 "cells": [
  {
   "cell_type": "code",
   "execution_count": 1,
   "metadata": {},
   "outputs": [
    {
     "name": "stderr",
     "output_type": "stream",
     "text": [
      "2023-04-26 20:32:46.021239: I tensorflow/core/platform/cpu_feature_guard.cc:182] This TensorFlow binary is optimized to use available CPU instructions in performance-critical operations.\n",
      "To enable the following instructions: AVX2 FMA, in other operations, rebuild TensorFlow with the appropriate compiler flags.\n",
      "2023-04-26 20:32:46.506269: W tensorflow/compiler/tf2tensorrt/utils/py_utils.cc:38] TF-TRT Warning: Could not find TensorRT\n"
     ]
    }
   ],
   "source": [
    "\n",
    "import tensorflow as tf\n",
    "from tensorflow.keras import layers\n",
    "from tensorflow.keras.models import Sequential\n",
    "\n",
    "import os\n",
    "os.environ['TF_CPP_MIN_LOG_LEVEL'] = '1' "
   ]
  },
  {
   "cell_type": "code",
   "execution_count": 2,
   "metadata": {},
   "outputs": [],
   "source": [
    "\n",
    "input_shape = (256, 256, 3)\n",
    "kerSize = 3\n"
   ]
  },
  {
   "cell_type": "code",
   "execution_count": 3,
   "metadata": {},
   "outputs": [
    {
     "name": "stdout",
     "output_type": "stream",
     "text": [
      "Model: \"sequential\"\n",
      "_________________________________________________________________\n",
      " Layer (type)                Output Shape              Param #   \n",
      "=================================================================\n",
      " conv2d (Conv2D)             (None, 254, 254, 32)      896       \n",
      "                                                                 \n",
      " max_pooling2d (MaxPooling2D  (None, 127, 127, 32)     0         \n",
      " )                                                               \n",
      "                                                                 \n",
      " conv2d_1 (Conv2D)           (None, 125, 125, 64)      18496     \n",
      "                                                                 \n",
      " max_pooling2d_1 (MaxPooling  (None, 62, 62, 64)       0         \n",
      " 2D)                                                             \n",
      "                                                                 \n",
      " conv2d_2 (Conv2D)           (None, 60, 60, 128)       73856     \n",
      "                                                                 \n",
      " max_pooling2d_2 (MaxPooling  (None, 30, 30, 128)      0         \n",
      " 2D)                                                             \n",
      "                                                                 \n",
      " conv2d_3 (Conv2D)           (None, 28, 28, 256)       295168    \n",
      "                                                                 \n",
      " max_pooling2d_3 (MaxPooling  (None, 14, 14, 256)      0         \n",
      " 2D)                                                             \n",
      "                                                                 \n",
      " flatten (Flatten)           (None, 50176)             0         \n",
      "                                                                 \n",
      " dense (Dense)               (None, 512)               25690624  \n",
      "                                                                 \n",
      " dropout (Dropout)           (None, 512)               0         \n",
      "                                                                 \n",
      " dense_1 (Dense)             (None, 256)               131328    \n",
      "                                                                 \n",
      " dropout_1 (Dropout)         (None, 256)               0         \n",
      "                                                                 \n",
      " dense_2 (Dense)             (None, 1)                 257       \n",
      "                                                                 \n",
      "=================================================================\n",
      "Total params: 26,210,625\n",
      "Trainable params: 26,210,625\n",
      "Non-trainable params: 0\n",
      "_________________________________________________________________\n"
     ]
    },
    {
     "name": "stderr",
     "output_type": "stream",
     "text": [
      "2023-04-26 20:32:46.980208: I tensorflow/compiler/xla/stream_executor/cuda/cuda_gpu_executor.cc:996] successful NUMA node read from SysFS had negative value (-1), but there must be at least one NUMA node, so returning NUMA node zero. See more at https://github.com/torvalds/linux/blob/v6.0/Documentation/ABI/testing/sysfs-bus-pci#L344-L355\n",
      "2023-04-26 20:32:46.992445: I tensorflow/compiler/xla/stream_executor/cuda/cuda_gpu_executor.cc:996] successful NUMA node read from SysFS had negative value (-1), but there must be at least one NUMA node, so returning NUMA node zero. See more at https://github.com/torvalds/linux/blob/v6.0/Documentation/ABI/testing/sysfs-bus-pci#L344-L355\n",
      "2023-04-26 20:32:46.992574: I tensorflow/compiler/xla/stream_executor/cuda/cuda_gpu_executor.cc:996] successful NUMA node read from SysFS had negative value (-1), but there must be at least one NUMA node, so returning NUMA node zero. See more at https://github.com/torvalds/linux/blob/v6.0/Documentation/ABI/testing/sysfs-bus-pci#L344-L355\n",
      "2023-04-26 20:32:46.993152: I tensorflow/compiler/xla/stream_executor/cuda/cuda_gpu_executor.cc:996] successful NUMA node read from SysFS had negative value (-1), but there must be at least one NUMA node, so returning NUMA node zero. See more at https://github.com/torvalds/linux/blob/v6.0/Documentation/ABI/testing/sysfs-bus-pci#L344-L355\n",
      "2023-04-26 20:32:46.993251: I tensorflow/compiler/xla/stream_executor/cuda/cuda_gpu_executor.cc:996] successful NUMA node read from SysFS had negative value (-1), but there must be at least one NUMA node, so returning NUMA node zero. See more at https://github.com/torvalds/linux/blob/v6.0/Documentation/ABI/testing/sysfs-bus-pci#L344-L355\n",
      "2023-04-26 20:32:46.993335: I tensorflow/compiler/xla/stream_executor/cuda/cuda_gpu_executor.cc:996] successful NUMA node read from SysFS had negative value (-1), but there must be at least one NUMA node, so returning NUMA node zero. See more at https://github.com/torvalds/linux/blob/v6.0/Documentation/ABI/testing/sysfs-bus-pci#L344-L355\n",
      "2023-04-26 20:32:47.354425: I tensorflow/compiler/xla/stream_executor/cuda/cuda_gpu_executor.cc:996] successful NUMA node read from SysFS had negative value (-1), but there must be at least one NUMA node, so returning NUMA node zero. See more at https://github.com/torvalds/linux/blob/v6.0/Documentation/ABI/testing/sysfs-bus-pci#L344-L355\n",
      "2023-04-26 20:32:47.354550: I tensorflow/compiler/xla/stream_executor/cuda/cuda_gpu_executor.cc:996] successful NUMA node read from SysFS had negative value (-1), but there must be at least one NUMA node, so returning NUMA node zero. See more at https://github.com/torvalds/linux/blob/v6.0/Documentation/ABI/testing/sysfs-bus-pci#L344-L355\n",
      "2023-04-26 20:32:47.354640: I tensorflow/compiler/xla/stream_executor/cuda/cuda_gpu_executor.cc:996] successful NUMA node read from SysFS had negative value (-1), but there must be at least one NUMA node, so returning NUMA node zero. See more at https://github.com/torvalds/linux/blob/v6.0/Documentation/ABI/testing/sysfs-bus-pci#L344-L355\n",
      "2023-04-26 20:32:47.354718: I tensorflow/core/common_runtime/gpu/gpu_device.cc:1635] Created device /job:localhost/replica:0/task:0/device:GPU:0 with 9503 MB memory:  -> device: 0, name: NVIDIA GeForce RTX 3080 Ti, pci bus id: 0000:0b:00.0, compute capability: 8.6\n"
     ]
    }
   ],
   "source": [
    "model = Sequential([\n",
    "    # Capas convolucionales\n",
    "    layers.Conv2D(32, kernel_size=3, activation='relu', input_shape=input_shape),\n",
    "    layers.MaxPooling2D(pool_size=(2, 2)),\n",
    "    layers.Conv2D(64, kernel_size=3, activation='relu'),\n",
    "    layers.MaxPooling2D(pool_size=(2, 2)),\n",
    "    layers.Conv2D(128, kernel_size=3, activation='relu'),\n",
    "    layers.MaxPooling2D(pool_size=(2, 2)),\n",
    "    layers.Conv2D(256, kernel_size=3, activation='relu'),\n",
    "    layers.MaxPooling2D(pool_size=(2, 2)),\n",
    "\n",
    "    # Capa de nivelacion\n",
    "    layers.Flatten(),\n",
    "\n",
    "    # Capa de conexion total\n",
    "    layers.Dense(512, activation='relu'),\n",
    "    layers.Dropout(0.5),\n",
    "    layers.Dense(256, activation='relu'),\n",
    "    layers.Dropout(0.5),\n",
    "    layers.Dense(128, activation='relu'),\n",
    "    layers.Dropout(0.5),\n",
    "    layers.Dense(1, activation='linear')\n",
    "])\n",
    "\n",
    "model.summary()\n"
   ]
  },
  {
   "cell_type": "code",
   "execution_count": 4,
   "metadata": {},
   "outputs": [],
   "source": [
    "model.compile(\n",
    "    optimizer=tf.keras.optimizers.Adam(learning_rate=0.0001),\n",
    "    loss='mean_squared_error'\n",
    "    )"
   ]
  },
  {
   "cell_type": "code",
   "execution_count": 5,
   "metadata": {},
   "outputs": [
    {
     "name": "stdout",
     "output_type": "stream",
     "text": [
      "Found 16884 files belonging to 12 classes.\n",
      "Using 13508 files for training.\n",
      "Found 446 files belonging to 1 classes.\n",
      "Using 89 files for validation.\n"
     ]
    }
   ],
   "source": [
    "train_data = tf.keras.preprocessing.image_dataset_from_directory(\n",
    "    \"/home/nicko/proyects/dataset/train/outdoor\",\n",
    "    batch_size=32,\n",
    "    image_size=(256, 256),\n",
    "    shuffle=True,\n",
    "    seed=123,\n",
    "    validation_split=0.2,\n",
    "    subset=\"training\"\n",
    ")\n",
    "\n",
    "val_data = tf.keras.preprocessing.image_dataset_from_directory(\n",
    "    \"/home/nicko/proyects/dataset/val\",\n",
    "    batch_size=32,\n",
    "    image_size=(256, 256),\n",
    "    shuffle=True,\n",
    "    seed=123,\n",
    "    validation_split=0.2,\n",
    "    subset=\"validation\"\n",
    ")"
   ]
  },
  {
   "cell_type": "code",
   "execution_count": 6,
   "metadata": {},
   "outputs": [
    {
     "name": "stdout",
     "output_type": "stream",
     "text": [
      "Epoch 1/100\n"
     ]
    },
    {
     "name": "stderr",
     "output_type": "stream",
     "text": [
      "2023-04-26 20:32:48.232710: I tensorflow/core/common_runtime/executor.cc:1197] [/device:CPU:0] (DEBUG INFO) Executor start aborting (this does not indicate an error and you can ignore this message): INVALID_ARGUMENT: You must feed a value for placeholder tensor 'Placeholder/_4' with dtype int32 and shape [13508]\n",
      "\t [[{{node Placeholder/_4}}]]\n",
      "2023-04-26 20:32:48.232890: I tensorflow/core/common_runtime/executor.cc:1197] [/device:CPU:0] (DEBUG INFO) Executor start aborting (this does not indicate an error and you can ignore this message): INVALID_ARGUMENT: You must feed a value for placeholder tensor 'Placeholder/_4' with dtype int32 and shape [13508]\n",
      "\t [[{{node Placeholder/_4}}]]\n",
      "2023-04-26 20:32:50.024010: I tensorflow/compiler/xla/stream_executor/cuda/cuda_dnn.cc:424] Loaded cuDNN version 8600\n",
      "2023-04-26 20:32:50.735053: I tensorflow/compiler/xla/stream_executor/cuda/cuda_blas.cc:637] TensorFloat-32 will be used for the matrix multiplication. This will only be logged once.\n",
      "2023-04-26 20:32:50.745679: I tensorflow/compiler/xla/service/service.cc:169] XLA service 0x7f37cc9d3a00 initialized for platform CUDA (this does not guarantee that XLA will be used). Devices:\n",
      "2023-04-26 20:32:50.745690: I tensorflow/compiler/xla/service/service.cc:177]   StreamExecutor device (0): NVIDIA GeForce RTX 3080 Ti, Compute Capability 8.6\n",
      "2023-04-26 20:32:50.758679: I tensorflow/compiler/mlir/tensorflow/utils/dump_mlir_util.cc:269] disabling MLIR crash reproducer, set env var `MLIR_CRASH_REPRODUCER_DIRECTORY` to enable.\n",
      "2023-04-26 20:32:50.902679: I ./tensorflow/compiler/jit/device_compiler.h:180] Compiled cluster using XLA!  This line is logged at most once for the lifetime of the process.\n"
     ]
    },
    {
     "name": "stdout",
     "output_type": "stream",
     "text": [
      "423/423 [==============================] - ETA: 0s - loss: 50.9900"
     ]
    },
    {
     "name": "stderr",
     "output_type": "stream",
     "text": [
      "2023-04-26 20:33:13.239980: I tensorflow/core/common_runtime/executor.cc:1197] [/device:CPU:0] (DEBUG INFO) Executor start aborting (this does not indicate an error and you can ignore this message): INVALID_ARGUMENT: You must feed a value for placeholder tensor 'Placeholder/_0' with dtype string and shape [89]\n",
      "\t [[{{node Placeholder/_0}}]]\n",
      "2023-04-26 20:33:13.240272: I tensorflow/core/common_runtime/executor.cc:1197] [/device:CPU:0] (DEBUG INFO) Executor start aborting (this does not indicate an error and you can ignore this message): INVALID_ARGUMENT: You must feed a value for placeholder tensor 'Placeholder/_0' with dtype string and shape [89]\n",
      "\t [[{{node Placeholder/_0}}]]\n"
     ]
    },
    {
     "name": "stdout",
     "output_type": "stream",
     "text": [
      "423/423 [==============================] - 25s 49ms/step - loss: 50.9900 - val_loss: 40.6802\n",
      "Epoch 2/100\n",
      "423/423 [==============================] - 21s 49ms/step - loss: 11.5213 - val_loss: 56.0522\n",
      "Epoch 3/100\n",
      "423/423 [==============================] - 21s 49ms/step - loss: 10.3990 - val_loss: 40.2377\n",
      "Epoch 4/100\n",
      "423/423 [==============================] - 21s 48ms/step - loss: 9.3427 - val_loss: 40.4187\n",
      "Epoch 5/100\n",
      "423/423 [==============================] - 21s 48ms/step - loss: 8.5342 - val_loss: 37.0928\n",
      "Epoch 6/100\n",
      "423/423 [==============================] - 21s 49ms/step - loss: 7.7719 - val_loss: 31.1209\n",
      "Epoch 7/100\n",
      "423/423 [==============================] - 21s 48ms/step - loss: 7.3679 - val_loss: 40.8127\n",
      "Epoch 8/100\n",
      "423/423 [==============================] - 21s 48ms/step - loss: 6.7015 - val_loss: 29.6238\n",
      "Epoch 9/100\n",
      "423/423 [==============================] - 21s 49ms/step - loss: 6.2316 - val_loss: 22.9781\n",
      "Epoch 10/100\n",
      "423/423 [==============================] - 21s 48ms/step - loss: 5.6092 - val_loss: 30.9240\n",
      "Epoch 11/100\n",
      "423/423 [==============================] - 21s 48ms/step - loss: 5.2007 - val_loss: 33.1234\n",
      "Epoch 12/100\n",
      "423/423 [==============================] - 21s 48ms/step - loss: 4.9577 - val_loss: 46.3172\n",
      "Epoch 13/100\n",
      "423/423 [==============================] - 21s 48ms/step - loss: 4.3114 - val_loss: 53.0976\n",
      "Epoch 14/100\n",
      "423/423 [==============================] - 21s 49ms/step - loss: 4.1358 - val_loss: 26.2151\n",
      "Epoch 15/100\n",
      "423/423 [==============================] - 21s 49ms/step - loss: 3.9943 - val_loss: 46.3846\n",
      "Epoch 16/100\n",
      "423/423 [==============================] - 21s 49ms/step - loss: 3.5545 - val_loss: 47.0097\n",
      "Epoch 17/100\n",
      "423/423 [==============================] - 21s 49ms/step - loss: 3.4116 - val_loss: 28.0908\n",
      "Epoch 18/100\n",
      "423/423 [==============================] - 21s 49ms/step - loss: 3.2555 - val_loss: 44.6404\n",
      "Epoch 19/100\n",
      "423/423 [==============================] - 21s 49ms/step - loss: 3.1148 - val_loss: 42.9387\n",
      "Epoch 20/100\n",
      "423/423 [==============================] - 21s 49ms/step - loss: 2.9754 - val_loss: 45.5278\n",
      "Epoch 21/100\n",
      "423/423 [==============================] - 21s 49ms/step - loss: 2.7448 - val_loss: 40.4660\n",
      "Epoch 22/100\n",
      "423/423 [==============================] - 21s 49ms/step - loss: 2.5847 - val_loss: 34.2854\n",
      "Epoch 23/100\n",
      "423/423 [==============================] - 21s 49ms/step - loss: 2.5628 - val_loss: 35.9796\n",
      "Epoch 24/100\n",
      "423/423 [==============================] - 21s 49ms/step - loss: 2.5247 - val_loss: 53.8498\n",
      "Epoch 25/100\n",
      "423/423 [==============================] - 21s 49ms/step - loss: 2.3748 - val_loss: 36.4796\n",
      "Epoch 26/100\n",
      "423/423 [==============================] - 21s 49ms/step - loss: 2.3450 - val_loss: 43.9754\n",
      "Epoch 27/100\n",
      "423/423 [==============================] - 21s 49ms/step - loss: 2.2298 - val_loss: 41.0040\n",
      "Epoch 28/100\n",
      "423/423 [==============================] - 21s 49ms/step - loss: 2.1590 - val_loss: 33.9098\n",
      "Epoch 29/100\n",
      "423/423 [==============================] - 21s 49ms/step - loss: 2.0675 - val_loss: 31.0302\n",
      "Epoch 30/100\n",
      "423/423 [==============================] - 21s 50ms/step - loss: 2.0630 - val_loss: 32.8341\n",
      "Epoch 31/100\n",
      "423/423 [==============================] - 21s 49ms/step - loss: 1.9409 - val_loss: 34.7254\n",
      "Epoch 32/100\n",
      "423/423 [==============================] - 21s 49ms/step - loss: 1.8955 - val_loss: 37.9645\n",
      "Epoch 33/100\n",
      "423/423 [==============================] - 21s 49ms/step - loss: 1.8441 - val_loss: 42.3153\n",
      "Epoch 34/100\n",
      "423/423 [==============================] - 21s 50ms/step - loss: 1.8046 - val_loss: 32.9534\n",
      "Epoch 35/100\n",
      "423/423 [==============================] - 21s 50ms/step - loss: 1.8089 - val_loss: 40.4480\n",
      "Epoch 36/100\n",
      "423/423 [==============================] - 21s 49ms/step - loss: 1.7514 - val_loss: 40.3684\n",
      "Epoch 37/100\n",
      "423/423 [==============================] - 21s 49ms/step - loss: 1.6900 - val_loss: 41.0656\n",
      "Epoch 38/100\n",
      "423/423 [==============================] - 21s 50ms/step - loss: 1.6856 - val_loss: 39.1271\n",
      "Epoch 39/100\n",
      "423/423 [==============================] - 21s 49ms/step - loss: 1.6480 - val_loss: 42.6645\n",
      "Epoch 40/100\n",
      "423/423 [==============================] - 22s 50ms/step - loss: 1.6341 - val_loss: 50.8590\n",
      "Epoch 41/100\n",
      "423/423 [==============================] - 21s 49ms/step - loss: 1.6630 - val_loss: 42.2224\n",
      "Epoch 42/100\n",
      "423/423 [==============================] - 22s 50ms/step - loss: 1.5573 - val_loss: 38.6894\n",
      "Epoch 43/100\n",
      "423/423 [==============================] - 21s 49ms/step - loss: 1.5559 - val_loss: 42.4150\n",
      "Epoch 44/100\n",
      "423/423 [==============================] - 21s 49ms/step - loss: 1.4827 - val_loss: 38.7875\n",
      "Epoch 45/100\n",
      "423/423 [==============================] - 21s 49ms/step - loss: 1.4424 - val_loss: 44.9850\n",
      "Epoch 46/100\n",
      "423/423 [==============================] - 21s 49ms/step - loss: 1.4101 - val_loss: 39.8026\n",
      "Epoch 47/100\n",
      "423/423 [==============================] - 21s 50ms/step - loss: 1.4261 - val_loss: 38.9988\n",
      "Epoch 48/100\n",
      "423/423 [==============================] - 21s 49ms/step - loss: 1.4112 - val_loss: 41.0365\n",
      "Epoch 49/100\n",
      "423/423 [==============================] - 22s 50ms/step - loss: 1.4111 - val_loss: 52.1244\n",
      "Epoch 50/100\n",
      "423/423 [==============================] - 21s 49ms/step - loss: 1.3477 - val_loss: 47.3045\n",
      "Epoch 51/100\n",
      "423/423 [==============================] - 21s 49ms/step - loss: 1.3561 - val_loss: 44.0324\n",
      "Epoch 52/100\n",
      "423/423 [==============================] - 21s 49ms/step - loss: 1.3359 - val_loss: 45.9532\n",
      "Epoch 53/100\n",
      "423/423 [==============================] - 21s 49ms/step - loss: 1.2423 - val_loss: 48.3790\n",
      "Epoch 54/100\n",
      "423/423 [==============================] - 21s 49ms/step - loss: 1.2310 - val_loss: 43.1652\n",
      "Epoch 55/100\n",
      "423/423 [==============================] - 21s 50ms/step - loss: 1.2071 - val_loss: 50.9187\n",
      "Epoch 56/100\n",
      "423/423 [==============================] - 21s 49ms/step - loss: 1.1990 - val_loss: 41.4257\n",
      "Epoch 57/100\n",
      "423/423 [==============================] - 21s 49ms/step - loss: 1.1569 - val_loss: 50.5220\n",
      "Epoch 58/100\n",
      "423/423 [==============================] - 21s 49ms/step - loss: 1.1663 - val_loss: 50.5859\n",
      "Epoch 59/100\n",
      "423/423 [==============================] - 21s 49ms/step - loss: 1.1319 - val_loss: 52.8122\n",
      "Epoch 60/100\n",
      "423/423 [==============================] - 21s 49ms/step - loss: 1.1024 - val_loss: 51.6869\n",
      "Epoch 61/100\n",
      "423/423 [==============================] - 21s 50ms/step - loss: 1.0902 - val_loss: 50.9311\n",
      "Epoch 62/100\n",
      "423/423 [==============================] - 21s 49ms/step - loss: 1.0726 - val_loss: 53.0976\n",
      "Epoch 63/100\n",
      "423/423 [==============================] - 21s 49ms/step - loss: 1.0319 - val_loss: 53.6624\n",
      "Epoch 64/100\n",
      "423/423 [==============================] - 21s 50ms/step - loss: 1.0057 - val_loss: 51.6511\n",
      "Epoch 65/100\n",
      "423/423 [==============================] - 21s 50ms/step - loss: 1.0104 - val_loss: 46.7125\n",
      "Epoch 66/100\n",
      "423/423 [==============================] - 22s 50ms/step - loss: 0.9838 - val_loss: 53.3334\n",
      "Epoch 67/100\n",
      "423/423 [==============================] - 21s 50ms/step - loss: 0.9182 - val_loss: 57.2346\n",
      "Epoch 68/100\n",
      "423/423 [==============================] - 21s 49ms/step - loss: 0.9204 - val_loss: 48.7518\n",
      "Epoch 69/100\n",
      "423/423 [==============================] - 21s 49ms/step - loss: 0.9035 - val_loss: 49.5107\n",
      "Epoch 70/100\n",
      "423/423 [==============================] - 21s 50ms/step - loss: 0.9322 - val_loss: 52.6307\n",
      "Epoch 71/100\n",
      "423/423 [==============================] - 21s 49ms/step - loss: 0.8782 - val_loss: 46.3935\n",
      "Epoch 72/100\n",
      "423/423 [==============================] - 21s 50ms/step - loss: 0.8572 - val_loss: 47.8996\n",
      "Epoch 73/100\n",
      "423/423 [==============================] - 21s 49ms/step - loss: 0.8783 - val_loss: 51.7596\n",
      "Epoch 74/100\n",
      "423/423 [==============================] - 21s 49ms/step - loss: 0.8331 - val_loss: 51.8884\n",
      "Epoch 75/100\n",
      "423/423 [==============================] - 21s 49ms/step - loss: 0.8094 - val_loss: 55.8008\n",
      "Epoch 76/100\n",
      "423/423 [==============================] - 22s 50ms/step - loss: 0.8099 - val_loss: 56.3672\n",
      "Epoch 77/100\n",
      "423/423 [==============================] - 21s 49ms/step - loss: 0.7997 - val_loss: 51.7186\n",
      "Epoch 78/100\n",
      "423/423 [==============================] - 22s 50ms/step - loss: 0.7917 - val_loss: 48.8827\n",
      "Epoch 79/100\n",
      "423/423 [==============================] - 21s 49ms/step - loss: 0.7734 - val_loss: 49.6774\n",
      "Epoch 80/100\n",
      "423/423 [==============================] - 21s 49ms/step - loss: 0.7554 - val_loss: 51.4021\n",
      "Epoch 81/100\n",
      "423/423 [==============================] - 21s 49ms/step - loss: 0.7662 - val_loss: 53.2754\n",
      "Epoch 82/100\n",
      "423/423 [==============================] - 21s 50ms/step - loss: 0.7365 - val_loss: 52.7197\n",
      "Epoch 83/100\n",
      "423/423 [==============================] - 21s 50ms/step - loss: 0.7283 - val_loss: 52.3743\n",
      "Epoch 84/100\n",
      "423/423 [==============================] - 21s 50ms/step - loss: 0.7299 - val_loss: 54.4843\n",
      "Epoch 85/100\n",
      "423/423 [==============================] - 21s 49ms/step - loss: 0.7010 - val_loss: 52.5539\n",
      "Epoch 86/100\n",
      "423/423 [==============================] - 22s 50ms/step - loss: 0.7221 - val_loss: 52.3164\n",
      "Epoch 87/100\n",
      "423/423 [==============================] - 21s 50ms/step - loss: 0.6968 - val_loss: 52.8335\n",
      "Epoch 88/100\n",
      "423/423 [==============================] - 21s 49ms/step - loss: 0.7038 - val_loss: 48.9441\n",
      "Epoch 89/100\n",
      "423/423 [==============================] - 21s 50ms/step - loss: 0.6807 - val_loss: 58.9082\n",
      "Epoch 90/100\n",
      "423/423 [==============================] - 21s 50ms/step - loss: 0.6921 - val_loss: 51.8443\n",
      "Epoch 91/100\n",
      "423/423 [==============================] - 21s 49ms/step - loss: 0.6757 - val_loss: 50.7638\n",
      "Epoch 92/100\n",
      "423/423 [==============================] - 21s 50ms/step - loss: 0.6612 - val_loss: 56.1671\n",
      "Epoch 93/100\n",
      "423/423 [==============================] - 21s 49ms/step - loss: 0.6664 - val_loss: 48.5323\n",
      "Epoch 94/100\n",
      "423/423 [==============================] - 21s 49ms/step - loss: 0.6550 - val_loss: 51.7429\n",
      "Epoch 95/100\n",
      "423/423 [==============================] - 21s 49ms/step - loss: 0.6643 - val_loss: 53.6880\n",
      "Epoch 96/100\n",
      "423/423 [==============================] - 21s 49ms/step - loss: 0.6209 - val_loss: 54.2108\n",
      "Epoch 97/100\n",
      "423/423 [==============================] - 22s 50ms/step - loss: 0.6710 - val_loss: 55.6109\n",
      "Epoch 98/100\n",
      "423/423 [==============================] - 21s 50ms/step - loss: 0.6168 - val_loss: 48.6152\n",
      "Epoch 99/100\n",
      "423/423 [==============================] - 22s 50ms/step - loss: 0.6123 - val_loss: 53.4750\n",
      "Epoch 100/100\n",
      "423/423 [==============================] - 21s 49ms/step - loss: 0.6184 - val_loss: 56.1566\n"
     ]
    }
   ],
   "source": [
    "historial = model.fit(\n",
    "    train_data, \n",
    "    epochs=100, \n",
    "    validation_data=val_data\n",
    "    )"
   ]
  },
  {
   "attachments": {},
   "cell_type": "markdown",
   "metadata": {},
   "source": [
    "# Comportamiento de la perdida"
   ]
  },
  {
   "cell_type": "code",
   "execution_count": 7,
   "metadata": {},
   "outputs": [
    {
     "data": {
      "text/plain": [
       "[<matplotlib.lines.Line2D at 0x7f3c4c0ba6d0>]"
      ]
     },
     "execution_count": 7,
     "metadata": {},
     "output_type": "execute_result"
    },
    {
     "data": {
      "image/png": "[encoded data removed]",
      "text/plain": [
       "<Figure size 640x480 with 1 Axes>"
      ]
     },
     "metadata": {},
     "output_type": "display_data"
    }
   ],
   "source": [
    "import matplotlib.pyplot as plt\n",
    "plt.xlabel(\"Epoca\")\n",
    "plt.ylabel(\"Perdida\")\n",
    "plt.plot(historial.history[\"loss\"])"
   ]
  },
  {
   "cell_type": "code",
   "execution_count": 8,
   "metadata": {},
   "outputs": [
    {
     "name": "stdout",
     "output_type": "stream",
     "text": [
      "1/1 [==============================] - 0s 83ms/step\n",
      "Predicted depth value: 3.1083724\n"
     ]
    }
   ],
   "source": [
    "import numpy as np\n",
    "from PIL import Image\n",
    "\n",
    "# cargar la imagen\n",
    "image = Image.open(\"/home/nicko/proyects/dataset/val/outdoor/scene_00022/scan_00193/00022_00193_outdoor_000_020.png\")\n",
    "image = np.array(image)\n",
    "image = tf.image.resize(image, (256, 256))\n",
    "image = np.expand_dims(image, axis=0)\n",
    "\n",
    "# realizar la prediccion\n",
    "prediction = model.predict(image)\n",
    "\n",
    "# Print the predicted depth value\n",
    "print(\"Predicted depth value:\", prediction[0][0])"
   ]
  },
  {
   "cell_type": "code",
   "execution_count": 9,
   "metadata": {},
   "outputs": [],
   "source": [
    "model.save('model_entrenado.h5')"
   ]
  },
  {
   "cell_type": "code",
   "execution_count": 10,
   "metadata": {},
   "outputs": [
    {
     "name": "stderr",
     "output_type": "stream",
     "text": [
      "2023-04-26 21:08:20.246302: I tensorflow/core/common_runtime/executor.cc:1197] [/device:CPU:0] (DEBUG INFO) Executor start aborting (this does not indicate an error and you can ignore this message): INVALID_ARGUMENT: You must feed a value for placeholder tensor 'inputs' with dtype float and shape [?,512]\n",
      "\t [[{{node inputs}}]]\n",
      "2023-04-26 21:08:20.253358: I tensorflow/core/common_runtime/executor.cc:1197] [/device:CPU:0] (DEBUG INFO) Executor start aborting (this does not indicate an error and you can ignore this message): INVALID_ARGUMENT: You must feed a value for placeholder tensor 'inputs' with dtype float and shape [?,256]\n",
      "\t [[{{node inputs}}]]\n",
      "2023-04-26 21:08:20.451857: I tensorflow/core/common_runtime/executor.cc:1197] [/device:CPU:0] (DEBUG INFO) Executor start aborting (this does not indicate an error and you can ignore this message): INVALID_ARGUMENT: You must feed a value for placeholder tensor 'inputs' with dtype float and shape [?,512]\n",
      "\t [[{{node inputs}}]]\n",
      "2023-04-26 21:08:20.468301: I tensorflow/core/common_runtime/executor.cc:1197] [/device:CPU:0] (DEBUG INFO) Executor start aborting (this does not indicate an error and you can ignore this message): INVALID_ARGUMENT: You must feed a value for placeholder tensor 'inputs' with dtype float and shape [?,256]\n",
      "\t [[{{node inputs}}]]\n",
      "WARNING:absl:Found untraced functions such as _jit_compiled_convolution_op, _jit_compiled_convolution_op, _jit_compiled_convolution_op, _jit_compiled_convolution_op while saving (showing 4 of 4). These functions will not be directly callable after loading.\n"
     ]
    },
    {
     "name": "stdout",
     "output_type": "stream",
     "text": [
      "INFO:tensorflow:Assets written to: /tmp/tmp3nndn5o3/assets\n"
     ]
    },
    {
     "name": "stderr",
     "output_type": "stream",
     "text": [
      "INFO:tensorflow:Assets written to: /tmp/tmp3nndn5o3/assets\n",
      "2023-04-26 21:08:21.594161: W tensorflow/compiler/mlir/lite/python/tf_tfl_flatbuffer_helpers.cc:364] Ignored output_format.\n",
      "2023-04-26 21:08:21.594179: W tensorflow/compiler/mlir/lite/python/tf_tfl_flatbuffer_helpers.cc:367] Ignored drop_control_dependency.\n",
      "2023-04-26 21:08:21.594560: I tensorflow/cc/saved_model/reader.cc:45] Reading SavedModel from: /tmp/tmp3nndn5o3\n",
      "2023-04-26 21:08:21.595717: I tensorflow/cc/saved_model/reader.cc:89] Reading meta graph with tags { serve }\n",
      "2023-04-26 21:08:21.595724: I tensorflow/cc/saved_model/reader.cc:130] Reading SavedModel debug info (if present) from: /tmp/tmp3nndn5o3\n",
      "2023-04-26 21:08:21.598939: I tensorflow/compiler/mlir/mlir_graph_optimization_pass.cc:353] MLIR V1 optimization pass is not enabled\n",
      "2023-04-26 21:08:21.599981: I tensorflow/cc/saved_model/loader.cc:231] Restoring SavedModel bundle.\n",
      "2023-04-26 21:08:21.681255: I tensorflow/cc/saved_model/loader.cc:215] Running initialization op on SavedModel bundle at path: /tmp/tmp3nndn5o3\n",
      "2023-04-26 21:08:21.691238: I tensorflow/cc/saved_model/loader.cc:314] SavedModel load for tags { serve }; Status: success: OK. Took 96679 microseconds.\n"
     ]
    }
   ],
   "source": [
    "# Convertir el modelo a TFLite\n",
    "converter = tf.lite.TFLiteConverter.from_keras_model(model)\n",
    "tflite_model = converter.convert()\n",
    "\n",
    "# Guardar el modelo TFLite en un archivo\n",
    "with open('my_model.tflite', 'wb') as f:\n",
    "    f.write(tflite_model)"
   ]
  },
  {
   "attachments": {},
   "cell_type": "markdown",
   "metadata": {},
   "source": [
    "\n",
    "# tflite running\n"
   ]
  },
  {
   "cell_type": "code",
   "execution_count": 14,
   "metadata": {},
   "outputs": [
    {
     "name": "stdout",
     "output_type": "stream",
     "text": [
      "[[3.552549]]\n"
     ]
    }
   ],
   "source": [
    "import tensorflow as tf\n",
    "import numpy as np\n",
    "from PIL import Image\n",
    "\n",
    "# load the model\n",
    "interpreter = tf.lite.Interpreter(model_path=\"/home/nicko/proyects/monocular-depth-estimation-using-tensorflow/my_model.tflite\")\n",
    "interpreter.allocate_tensors()\n",
    "\n",
    "input_details = interpreter.get_input_details()\n",
    "output_details = interpreter.get_output_details()\n",
    "\n",
    "image = Image.open(\"/home/nicko/proyects/dataset/val/outdoor/scene_00022/scan_00193/00022_00193_outdoor_000_020.png\")\n",
    "image = image.resize((256,256))\n",
    "image = np.array(image, dtype=np.float32)\n",
    "image = np.expand_dims(image, axis=0)\n",
    "\n",
    "interpreter.set_tensor(input_details[0]['index'], image)\n",
    "\n",
    "interpreter.invoke()\n",
    "\n",
    "output_data = interpreter.get_tensor(output_details[0]['index'])\n",
    "print(output_data)"
   ]
  },
  {
   "attachments": {},
   "cell_type": "markdown",
   "metadata": {},
   "source": [
    "# ------------------------------------------------------------------------------"
   ]
  }
 ],
 "metadata": {
  "kernelspec": {
   "display_name": "Python 3 (ipykernel)",
   "language": "python",
   "name": "python3"
  },
  "language_info": {
   "codemirror_mode": {
    "name": "ipython",
    "version": 3
   },
   "file_extension": ".py",
   "mimetype": "text/x-python",
   "name": "python",
   "nbconvert_exporter": "python",
   "pygments_lexer": "ipython3",
   "version": "3.9.16"
  },
  "orig_nbformat": 4
 },
 "nbformat": 4,
 "nbformat_minor": 2
}
