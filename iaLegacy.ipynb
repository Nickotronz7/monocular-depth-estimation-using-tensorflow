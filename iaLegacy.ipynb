{
 "cells": [
  {
   "cell_type": "code",
   "execution_count": null,
   "metadata": {},
   "outputs": [],
   "source": [
    "import tensorflow as tf\n",
    "from tensorflow.keras.models import Sequential\n",
    "from tensorflow.keras.layers import Conv2D, BatchNormalization, ReLU, UpSampling2D"
   ]
  },
  {
   "cell_type": "code",
   "execution_count": null,
   "metadata": {},
   "outputs": [],
   "source": [
    "input_shape = (256, 256, 3)\n",
    "kerSize = 3"
   ]
  },
  {
   "cell_type": "code",
   "execution_count": null,
   "metadata": {},
   "outputs": [],
   "source": [
    "train_data = tf.keras.preprocessing.image_dataset_from_directory(\n",
    "    \"/mnt/s/Proyects/dataset/train/outdoor\",\n",
    "    batch_size=32,\n",
    "    image_size=(256, 256),\n",
    "    shuffle=True,\n",
    "    seed=123,\n",
    "    validation_split=0.2,\n",
    "    subset=\"training\"\n",
    ")"
   ]
  },
  {
   "cell_type": "code",
   "execution_count": null,
   "metadata": {},
   "outputs": [],
   "source": [
    "val_data = tf.keras.preprocessing.image_dataset_from_directory(\n",
    "    \"/mnt/s/Proyects/dataset/val\",\n",
    "    batch_size=32,\n",
    "    image_size=(256, 256),\n",
    "    shuffle=True,\n",
    "    seed=123,\n",
    "    validation_split=0.2,\n",
    "    subset=\"validation\"\n",
    ")"
   ]
  },
  {
   "cell_type": "code",
   "execution_count": null,
   "metadata": {},
   "outputs": [],
   "source": [
    "model = tf.keras.Sequential()\n",
    "\n",
    "# Encoder\n",
    "model.add(Conv2D(32, kernel_size=3, strides=2, padding='same',input_shape=input_shape))\n",
    "model.add(BatchNormalization())\n",
    "model.add(ReLU())\n",
    "model.add(Conv2D(64, kernel_size=3, strides=2, padding='same'))\n",
    "model.add(BatchNormalization())\n",
    "model.add(ReLU())\n",
    "model.add(Conv2D(128, kernel_size=3, strides=2, padding='same'))\n",
    "model.add(BatchNormalization())\n",
    "model.add(ReLU())\n",
    "model.add(Conv2D(256, kernel_size=3, strides=2, padding='same'))\n",
    "model.add(BatchNormalization())\n",
    "model.add(ReLU())\n",
    "\n",
    "# Decoder\n",
    "model.add(Conv2D(256, kernel_size=3, strides=1, padding='same'))\n",
    "model.add(BatchNormalization())\n",
    "model.add(ReLU())\n",
    "model.add(UpSampling2D(size=(2, 2)))\n",
    "model.add(Conv2D(128, kernel_size=3, strides=1, padding='same'))\n",
    "model.add(BatchNormalization())\n",
    "model.add(ReLU())\n",
    "model.add(UpSampling2D(size=(2, 2)))\n",
    "model.add(Conv2D(64, kernel_size=3, strides=1, padding='same'))\n",
    "model.add(BatchNormalization())\n",
    "model.add(ReLU())\n",
    "model.add(UpSampling2D(size=(2, 2)))\n",
    "model.add(Conv2D(32, kernel_size=3, strides=1, padding='same'))\n",
    "model.add(BatchNormalization())\n",
    "model.add(ReLU())\n",
    "model.add(Conv2D(1, kernel_size=3, strides=1, padding='same', activation='sigmoid'))"
   ]
  },
  {
   "cell_type": "code",
   "execution_count": null,
   "metadata": {},
   "outputs": [],
   "source": [
    "model.compile(optimizer=tf.keras.optimizers.Adam(learning_rate=0.0001), loss='mean_squared_error')"
   ]
  },
  {
   "cell_type": "code",
   "execution_count": null,
   "metadata": {},
   "outputs": [],
   "source": [
    "model.fit(train_data, epochs=100, validation_data=val_data)"
   ]
  },
  {
   "cell_type": "code",
   "execution_count": 50,
   "metadata": {},
   "outputs": [
    {
     "name": "stdout",
     "output_type": "stream",
     "text": [
      "WARNING:tensorflow:5 out of the last 5 calls to <function Model.make_predict_function.<locals>.predict_function at 0x7fd42440c310> triggered tf.function retracing. Tracing is expensive and the excessive number of tracings could be due to (1) creating @tf.function repeatedly in a loop, (2) passing tensors with different shapes, (3) passing Python objects instead of tensors. For (1), please define your @tf.function outside of the loop. For (2), @tf.function has reduce_retracing=True option that can avoid unnecessary retracing. For (3), please refer to https://www.tensorflow.org/guide/function#controlling_retracing and https://www.tensorflow.org/api_docs/python/tf/function for  more details.\n",
      "1/1 [==============================] - 0s 110ms/step\n",
      "[[[[0.9962069 ]\n",
      "   [0.99943143]\n",
      "   [0.99970514]\n",
      "   ...\n",
      "   [0.9996489 ]\n",
      "   [0.99973613]\n",
      "   [0.9977763 ]]\n",
      "\n",
      "  [[0.99940693]\n",
      "   [0.9999218 ]\n",
      "   [0.9999311 ]\n",
      "   ...\n",
      "   [0.99989796]\n",
      "   [0.9999424 ]\n",
      "   [0.99952173]]\n",
      "\n",
      "  [[0.99958867]\n",
      "   [0.99990296]\n",
      "   [0.99987674]\n",
      "   ...\n",
      "   [0.99987173]\n",
      "   [0.99989665]\n",
      "   [0.9996567 ]]\n",
      "\n",
      "  ...\n",
      "\n",
      "  [[0.99974006]\n",
      "   [0.999933  ]\n",
      "   [0.99989533]\n",
      "   ...\n",
      "   [0.9998965 ]\n",
      "   [0.9999201 ]\n",
      "   [0.99969673]]\n",
      "\n",
      "  [[0.9997762 ]\n",
      "   [0.9999701 ]\n",
      "   [0.9999366 ]\n",
      "   ...\n",
      "   [0.99995744]\n",
      "   [0.999956  ]\n",
      "   [0.99976665]]\n",
      "\n",
      "  [[0.9973079 ]\n",
      "   [0.99971944]\n",
      "   [0.999529  ]\n",
      "   ...\n",
      "   [0.99963415]\n",
      "   [0.9994777 ]\n",
      "   [0.9968527 ]]]]\n"
     ]
    }
   ],
   "source": [
    "import tensorflow as tf\n",
    "import cv2\n",
    "import numpy as np\n",
    "\n",
    "# Cargar la imagen\n",
    "img = cv2.imread(\"/mnt/s/Proyects/dataset/val/outdoor/scene_00022/scan_00193/00022_00193_outdoor_000_020.png\")\n",
    "\n",
    "# Escalar la imagen\n",
    "img = cv2.resize(img, (256, 256))\n",
    "\n",
    "# Normalizar la imagen\n",
    "img = np.float32(img) / 255.0\n",
    "\n",
    "# Agregar una dimensión adicional para representar el lote (batch)\n",
    "img = np.expand_dims(img, axis=0)\n",
    "img = np.expand_dims(img, axis=-1)\n",
    "\n",
    "# Cargar el modelo entrenado\n",
    "model = tf.keras.models.load_model('model2.h5')\n",
    "\n",
    "# Realizar la predicción de profundidad\n",
    "depth = model.predict(img)\n",
    "\n",
    "# Imprimir la profundidad predicha\n",
    "print(depth)\n"
   ]
  },
  {
   "cell_type": "code",
   "execution_count": 51,
   "metadata": {},
   "outputs": [],
   "source": [
    "# print(len(depth))\n",
    "# print(len(depth[0]))\n",
    "# print(len(depth[0][0]))\n",
    "# print(len(depth[0][0][0]))\n",
    "# print(depth[0][0][0][0])\n",
    "\n",
    "for i in range(128):\n",
    "    for j in range(128):\n",
    "        depth[0][i][j][0] = depth[0][i][j][0]*255"
   ]
  },
  {
   "cell_type": "code",
   "execution_count": 52,
   "metadata": {},
   "outputs": [],
   "source": [
    "\n",
    "new_pic = np.reshape(depth, (128, 128))\n",
    "\n",
    "# print(new_pic)\n",
    "\n",
    "# print(len(new_pic))\n",
    "# print(len(new_pic[0]))\n",
    "# print(len(new_pic[0][0]))\n",
    "# print(len(new_pic[0][0][0]))\n",
    "# print(new_pic[0][0][0][0])\n",
    "\n",
    "# for i in range(128):\n",
    "#     for j in range(128):\n",
    "#         new_pic[i][j][0] = depth[0][i][j][0]\n",
    "\n"
   ]
  },
  {
   "cell_type": "code",
   "execution_count": 53,
   "metadata": {},
   "outputs": [
    {
     "name": "stdout",
     "output_type": "stream",
     "text": [
      "[[254.03276 254.85501 254.9248  ... 254.91048 254.93271 254.43297]\n",
      " [254.84877 254.98006 254.98244 ... 254.97398 254.98532 254.87804]\n",
      " [254.89511 254.97525 254.96857 ... 254.96729 254.97365 254.91245]\n",
      " ...\n",
      " [254.93372 254.98291 254.97331 ... 254.97362 254.97963 254.92267]\n",
      " [254.94293 254.99237 254.98383 ... 254.98915 254.98878 254.94049]\n",
      " [254.3135  254.92845 254.8799  ... 254.90671 254.8668  254.19743]]\n"
     ]
    }
   ],
   "source": [
    "print(new_pic)"
   ]
  },
  {
   "cell_type": "code",
   "execution_count": 54,
   "metadata": {},
   "outputs": [
    {
     "data": {
      "image/png": "[encoded data removed]",
      "text/plain": [
       "<PIL.Image.Image image mode=RGB size=128x128>"
      ]
     },
     "metadata": {},
     "output_type": "display_data"
    }
   ],
   "source": [
    "from PIL import Image\n",
    "import numpy as np\n",
    "\n",
    "img = Image.fromarray(new_pic, 'RGB')\n",
    "img.save('my.png')\n",
    "img.show()"
   ]
  }
 ],
 "metadata": {
  "kernelspec": {
   "display_name": "tf",
   "language": "python",
   "name": "python3"
  },
  "language_info": {
   "codemirror_mode": {
    "name": "ipython",
    "version": 3
   },
   "file_extension": ".py",
   "mimetype": "text/x-python",
   "name": "python",
   "nbconvert_exporter": "python",
   "pygments_lexer": "ipython3",
   "version": "3.9.16"
  },
  "orig_nbformat": 4
 },
 "nbformat": 4,
 "nbformat_minor": 2
}
