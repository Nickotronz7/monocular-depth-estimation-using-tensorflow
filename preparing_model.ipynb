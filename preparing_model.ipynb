{
 "cells": [
  {
   "cell_type": "code",
   "execution_count": 1,
   "metadata": {},
   "outputs": [],
   "source": [
    "import tensorflow as tf"
   ]
  },
  {
   "cell_type": "code",
   "execution_count": 2,
   "metadata": {},
   "outputs": [],
   "source": [
    "ssim_loss_weight = 0.085\n",
    "l1_loss_weight = 0.01\n",
    "edge_loss_weight = 0.09\n",
    "loss_metric = tf.keras.metrics.Mean(name=\"loss\")\n",
    "\n",
    "\n",
    "def calculate_loss(target, pred):\n",
    "    # Edges\n",
    "    dy_true, dx_true = tf.image.image_gradients(target)\n",
    "    dy_pred, dx_pred = tf.image.image_gradients(pred)\n",
    "    weights_x = tf.exp(tf.reduce_mean(tf.abs(dx_true)))\n",
    "    weights_y = tf.exp(tf.reduce_mean(tf.abs(dy_true)))\n",
    "\n",
    "    # Depth smoothness\n",
    "    smoothness_x = dx_pred * weights_x\n",
    "    smoothness_y = dy_pred * weights_y\n",
    "\n",
    "    depth_smoothness_loss = tf.reduce_mean(abs(smoothness_x)) + tf.reduce_mean(\n",
    "        abs(smoothness_y)\n",
    "    )\n",
    "\n",
    "    # Structural similarity (SSIM) index\n",
    "    ssim_loss = tf.reduce_mean(\n",
    "        1\n",
    "        - tf.image.ssim(\n",
    "            target, pred, max_val=WIDTH, filter_size=7, k1=0.01 ** 2, k2=0.03 ** 2\n",
    "        )\n",
    "    )\n",
    "    # Point-wise depth\n",
    "    l1_loss = tf.reduce_mean(tf.abs(target - pred))\n",
    "\n",
    "    loss = (\n",
    "        (ssim_loss_weight * ssim_loss)\n",
    "        + (l1_loss_weight * l1_loss)\n",
    "        + (edge_loss_weight * depth_smoothness_loss)\n",
    "    )\n",
    "\n",
    "    return loss\n",
    "\n",
    "\n",
    "@property\n",
    "def metrics():\n",
    "    return [loss_metric]\n",
    "\n",
    "\n",
    "def train_step(self, batch_data):\n",
    "    input, target = batch_data\n",
    "    with tf.GradientTape() as tape:\n",
    "        pred = self(input, training=True)\n",
    "        loss = self.calculate_loss(target, pred)\n",
    "\n",
    "    gradients = tape.gradient(loss, self.trainable_variables)\n",
    "    self.optimizer.apply_gradients(zip(gradients, self.trainable_variables))\n",
    "    self.loss_metric.update_state(loss)\n",
    "    return {\n",
    "        \"loss\": self.loss_metric.result(),\n",
    "    }\n",
    "\n",
    "\n",
    "def test_step(self, batch_data):\n",
    "    input, target = batch_data\n",
    "\n",
    "    pred = self(input, training=False)\n",
    "    loss = self.calculate_loss(target, pred)\n",
    "\n",
    "    self.loss_metric.update_state(loss)\n",
    "    return {\n",
    "        \"loss\": self.loss_metric.result(),\n",
    "    }"
   ]
  },
  {
   "cell_type": "code",
   "execution_count": 3,
   "metadata": {},
   "outputs": [
    {
     "ename": "ValueError",
     "evalue": "Unknown loss function: calculate_loss. Please ensure this object is passed to the `custom_objects` argument. See https://www.tensorflow.org/guide/keras/save_and_serialize#registering_the_custom_object for details.",
     "output_type": "error",
     "traceback": [
      "\u001b[1;31m---------------------------------------------------------------------------\u001b[0m",
      "\u001b[1;31mValueError\u001b[0m                                Traceback (most recent call last)",
      "\u001b[1;32mc:\\Users\\nicko\\Documents\\workspace\\monocular-depth-estimation-using-tensorflow\\preparing_model.ipynb Cell 3'\u001b[0m in \u001b[0;36m<cell line: 1>\u001b[1;34m()\u001b[0m\n\u001b[1;32m----> <a href='vscode-notebook-cell:/c%3A/Users/nicko/Documents/workspace/monocular-depth-estimation-using-tensorflow/preparing_model.ipynb#ch0000001?line=0'>1</a>\u001b[0m model \u001b[39m=\u001b[39m tf\u001b[39m.\u001b[39;49mkeras\u001b[39m.\u001b[39;49mmodels\u001b[39m.\u001b[39;49mload_model(\u001b[39m'\u001b[39;49m\u001b[39mmodelo.h5\u001b[39;49m\u001b[39m'\u001b[39;49m)\n\u001b[0;32m      <a href='vscode-notebook-cell:/c%3A/Users/nicko/Documents/workspace/monocular-depth-estimation-using-tensorflow/preparing_model.ipynb#ch0000001?line=2'>3</a>\u001b[0m model\u001b[39m.\u001b[39msummary()\n",
      "File \u001b[1;32m~\\AppData\\Roaming\\Python\\Python39\\site-packages\\keras\\utils\\traceback_utils.py:67\u001b[0m, in \u001b[0;36mfilter_traceback.<locals>.error_handler\u001b[1;34m(*args, **kwargs)\u001b[0m\n\u001b[0;32m     <a href='file:///c%3A/Users/nicko/AppData/Roaming/Python/Python39/site-packages/keras/utils/traceback_utils.py?line=64'>65</a>\u001b[0m \u001b[39mexcept\u001b[39;00m \u001b[39mException\u001b[39;00m \u001b[39mas\u001b[39;00m e:  \u001b[39m# pylint: disable=broad-except\u001b[39;00m\n\u001b[0;32m     <a href='file:///c%3A/Users/nicko/AppData/Roaming/Python/Python39/site-packages/keras/utils/traceback_utils.py?line=65'>66</a>\u001b[0m   filtered_tb \u001b[39m=\u001b[39m _process_traceback_frames(e\u001b[39m.\u001b[39m__traceback__)\n\u001b[1;32m---> <a href='file:///c%3A/Users/nicko/AppData/Roaming/Python/Python39/site-packages/keras/utils/traceback_utils.py?line=66'>67</a>\u001b[0m   \u001b[39mraise\u001b[39;00m e\u001b[39m.\u001b[39mwith_traceback(filtered_tb) \u001b[39mfrom\u001b[39;00m \u001b[39mNone\u001b[39m\n\u001b[0;32m     <a href='file:///c%3A/Users/nicko/AppData/Roaming/Python/Python39/site-packages/keras/utils/traceback_utils.py?line=67'>68</a>\u001b[0m \u001b[39mfinally\u001b[39;00m:\n\u001b[0;32m     <a href='file:///c%3A/Users/nicko/AppData/Roaming/Python/Python39/site-packages/keras/utils/traceback_utils.py?line=68'>69</a>\u001b[0m   \u001b[39mdel\u001b[39;00m filtered_tb\n",
      "File \u001b[1;32m~\\AppData\\Roaming\\Python\\Python39\\site-packages\\keras\\utils\\generic_utils.py:709\u001b[0m, in \u001b[0;36mdeserialize_keras_object\u001b[1;34m(identifier, module_objects, custom_objects, printable_module_name)\u001b[0m\n\u001b[0;32m    <a href='file:///c%3A/Users/nicko/AppData/Roaming/Python/Python39/site-packages/keras/utils/generic_utils.py?line=706'>707</a>\u001b[0m   obj \u001b[39m=\u001b[39m module_objects\u001b[39m.\u001b[39mget(object_name)\n\u001b[0;32m    <a href='file:///c%3A/Users/nicko/AppData/Roaming/Python/Python39/site-packages/keras/utils/generic_utils.py?line=707'>708</a>\u001b[0m   \u001b[39mif\u001b[39;00m obj \u001b[39mis\u001b[39;00m \u001b[39mNone\u001b[39;00m:\n\u001b[1;32m--> <a href='file:///c%3A/Users/nicko/AppData/Roaming/Python/Python39/site-packages/keras/utils/generic_utils.py?line=708'>709</a>\u001b[0m     \u001b[39mraise\u001b[39;00m \u001b[39mValueError\u001b[39;00m(\n\u001b[0;32m    <a href='file:///c%3A/Users/nicko/AppData/Roaming/Python/Python39/site-packages/keras/utils/generic_utils.py?line=709'>710</a>\u001b[0m         \u001b[39mf\u001b[39m\u001b[39m'\u001b[39m\u001b[39mUnknown \u001b[39m\u001b[39m{\u001b[39;00mprintable_module_name\u001b[39m}\u001b[39;00m\u001b[39m: \u001b[39m\u001b[39m{\u001b[39;00mobject_name\u001b[39m}\u001b[39;00m\u001b[39m. Please ensure \u001b[39m\u001b[39m'\u001b[39m\n\u001b[0;32m    <a href='file:///c%3A/Users/nicko/AppData/Roaming/Python/Python39/site-packages/keras/utils/generic_utils.py?line=710'>711</a>\u001b[0m         \u001b[39m'\u001b[39m\u001b[39mthis object is passed to the `custom_objects` argument. See \u001b[39m\u001b[39m'\u001b[39m\n\u001b[0;32m    <a href='file:///c%3A/Users/nicko/AppData/Roaming/Python/Python39/site-packages/keras/utils/generic_utils.py?line=711'>712</a>\u001b[0m         \u001b[39m'\u001b[39m\u001b[39mhttps://www.tensorflow.org/guide/keras/save_and_serialize\u001b[39m\u001b[39m'\u001b[39m\n\u001b[0;32m    <a href='file:///c%3A/Users/nicko/AppData/Roaming/Python/Python39/site-packages/keras/utils/generic_utils.py?line=712'>713</a>\u001b[0m         \u001b[39m'\u001b[39m\u001b[39m#registering_the_custom_object for details.\u001b[39m\u001b[39m'\u001b[39m)\n\u001b[0;32m    <a href='file:///c%3A/Users/nicko/AppData/Roaming/Python/Python39/site-packages/keras/utils/generic_utils.py?line=714'>715</a>\u001b[0m \u001b[39m# Classes passed by name are instantiated with no args, functions are\u001b[39;00m\n\u001b[0;32m    <a href='file:///c%3A/Users/nicko/AppData/Roaming/Python/Python39/site-packages/keras/utils/generic_utils.py?line=715'>716</a>\u001b[0m \u001b[39m# returned as-is.\u001b[39;00m\n\u001b[0;32m    <a href='file:///c%3A/Users/nicko/AppData/Roaming/Python/Python39/site-packages/keras/utils/generic_utils.py?line=716'>717</a>\u001b[0m \u001b[39mif\u001b[39;00m tf_inspect\u001b[39m.\u001b[39misclass(obj):\n",
      "\u001b[1;31mValueError\u001b[0m: Unknown loss function: calculate_loss. Please ensure this object is passed to the `custom_objects` argument. See https://www.tensorflow.org/guide/keras/save_and_serialize#registering_the_custom_object for details."
     ]
    }
   ],
   "source": [
    "model = tf.keras.models.load_model('modelo.h5')\n",
    "\n",
    "model.summary()"
   ]
  }
 ],
 "metadata": {
  "interpreter": {
   "hash": "11938c6bc6919ae2720b4d5011047913343b08a43b18698fd82dedb0d4417594"
  },
  "kernelspec": {
   "display_name": "Python 3.9.12 64-bit",
   "language": "python",
   "name": "python3"
  },
  "language_info": {
   "codemirror_mode": {
    "name": "ipython",
    "version": 3
   },
   "file_extension": ".py",
   "mimetype": "text/x-python",
   "name": "python",
   "nbconvert_exporter": "python",
   "pygments_lexer": "ipython3",
   "version": "3.9.12"
  },
  "orig_nbformat": 4
 },
 "nbformat": 4,
 "nbformat_minor": 2
}
